{
 "cells": [
  {
   "cell_type": "code",
   "execution_count": null,
   "id": "4cbfa687-0ae6-4d93-b134-2006daf58b5e",
   "metadata": {
    "scrolled": true
   },
   "outputs": [],
   "source": [
    "# Training\n",
    "\n",
    "CONFIG_FILE = '/home/ubuntu/workspace/yuns/mmdetection/configs/custom_configs/dino_4scale.py'\n",
    "\n",
    "!python tools/train.py \\\n",
    "    {CONFIG_FILE} \\\n",
    "    # --auto-scale-lr \\\n",
    "#    [optional arguments]"
   ]
  },
  {
   "cell_type": "code",
   "execution_count": 16,
   "id": "b6c68448-8093-48ad-b84f-b15abe3b49d9",
   "metadata": {},
   "outputs": [
    {
     "name": "stdout",
     "output_type": "stream",
     "text": [
      "[>>>>>>>>>>>>>>>>>>>>>>>>>>] 1070/1070, 6479.4 task/s, elapsed: 0s, ETA:     0s\n",
      "save json file: /home/ubuntu/workspace/datasets/eo_videos_to_image_new/../annotations/eo_test.json\n"
     ]
    }
   ],
   "source": [
    "# Change Image to coco\n",
    "\n",
    "'''\n",
    "arguments：\n",
    "\n",
    "IMG_PATH: The root path of images.\n",
    "CLASSES: The text file with a list of categories.\n",
    "OUT: The output annotation json file name. The save dir is in the same directory as IMG_PATH.\n",
    "exclude-extensions: The suffix of images to be excluded, such as 'png' and 'bmp'.\n",
    "'''\n",
    "\n",
    "IMG_PATH = '/home/ubuntu/workspace/datasets/eo_videos_to_image_new/'\n",
    "CLASSES = '/home/ubuntu/workspace/yuns/mmdetection/eo_classes.txt'\n",
    "OUT = 'eo_test.json'\n",
    "\n",
    "!python tools/dataset_converters/images2coco.py \\\n",
    "    {IMG_PATH} \\\n",
    "    {CLASSES} \\\n",
    "    {OUT} \\\n",
    "#    [--exclude-extensions]"
   ]
  },
  {
   "cell_type": "code",
   "execution_count": null,
   "id": "72ca3cd0-2ef6-417f-a3c5-67142d6b4693",
   "metadata": {},
   "outputs": [],
   "source": [
    "# Testing\n",
    "\n",
    "CONFIG_FILE = '/home/ubuntu/workspace/yuns/mmdetection/configs/custom_configs/detr_r50_8x2_2x_anti-uav-full-yun.py'\n",
    "CHECKPOINT_FILE = '/home/ubuntu/workspace/yuns/models/detr_r50_8x2_2x_anti-uav-full_model.pth'\n",
    "\n",
    "!python tools/test.py \\\n",
    "    '/home/ubuntu/workspace/yuns/mmdetection/configs/custom_configs/detr_r50_8x2_2x_anti-uav-full-yun.py' \\\n",
    "    '/home/ubuntu/workspace/yuns/models/detr_r50_8x2_2x_anti-uav-full_model.pth' \\\n",
    "    --show --show-dir \"/home/ubuntu/workspace/yuns/mmdetection/show_dir/eo\"\n",
    "#   --show\n"
   ]
  },
  {
   "cell_type": "code",
   "execution_count": null,
   "id": "45abb90a-b470-4b02-b877-4d8fd41311de",
   "metadata": {},
   "outputs": [],
   "source": []
  }
 ],
 "metadata": {
  "kernelspec": {
   "display_name": "Python 3 (ipykernel)",
   "language": "python",
   "name": "python3"
  },
  "language_info": {
   "codemirror_mode": {
    "name": "ipython",
    "version": 3
   },
   "file_extension": ".py",
   "mimetype": "text/x-python",
   "name": "python",
   "nbconvert_exporter": "python",
   "pygments_lexer": "ipython3",
   "version": "3.8.16"
  }
 },
 "nbformat": 4,
 "nbformat_minor": 5
}

{
 "cells": [
  {
   "cell_type": "code",
   "execution_count": 1,
   "id": "a6a2b95a-133a-49db-9e59-fb4a964f0db1",
   "metadata": {},
   "outputs": [
    {
     "name": "stdout",
     "output_type": "stream",
     "text": [
      "/home/ubuntu/workspace/visualization/sort\n"
     ]
    }
   ],
   "source": [
    "%cd sort"
   ]
  },
  {
   "cell_type": "code",
   "execution_count": null,
   "id": "ca1c297f-804a-4c90-a59e-c6e7af6d7280",
   "metadata": {},
   "outputs": [],
   "source": [
    "!pip install -r requirements.txt"
   ]
  },
  {
   "cell_type": "code",
   "execution_count": 2,
   "id": "b46ec91e-f9e0-49cc-9f3b-86ef7aad9e11",
   "metadata": {},
   "outputs": [
    {
     "name": "stdout",
     "output_type": "stream",
     "text": [
      "LICENSE  README.md  \u001b[0m\u001b[01;34m__pycache__\u001b[0m/  \u001b[01;34mdata\u001b[0m/  requirements.txt  sort.py\n"
     ]
    }
   ],
   "source": [
    "%ls"
   ]
  },
  {
   "cell_type": "code",
   "execution_count": 3,
   "id": "02dfb8fa-6dfe-40ff-b229-9fb05ed39b3c",
   "metadata": {},
   "outputs": [],
   "source": [
    "def convert_filename(filename):\n",
    "    parts = filename.split(\"_\")\n",
    "    directory = \"_\".join(parts[:-1])\n",
    "    new_filename = f\"{directory}\"\n",
    "    return new_filename"
   ]
  },
  {
   "cell_type": "code",
   "execution_count": 13,
   "id": "510af96f-dbe7-4142-98af-cef4c555557b",
   "metadata": {},
   "outputs": [
    {
     "name": "stderr",
     "output_type": "stream",
     "text": [
      "100%|██████████████████████████████████████████████████████████████████████████████████████████████████████████████████████████████████████████████████████████████████| 358/358 [00:13<00:00, 27.28it/s]\n"
     ]
    }
   ],
   "source": [
    "import os\n",
    "import json\n",
    "from tqdm import tqdm\n",
    "\n",
    "\n",
    "def load_annotations(annotation_path):\n",
    "    with open(annotation_path, 'r') as f:\n",
    "        annotations = json.load(f)\n",
    "    return annotations\n",
    "\n",
    "\n",
    "def get_image_ids(annotations, file_name):\n",
    "    images = annotations['images']\n",
    "    filename = convert_filename(file_name)\n",
    "    print(filename)\n",
    "    image_list = [image['id'] for image in images if filename in image['file_name']]\n",
    "    return image_list\n",
    "\n",
    "def get_image_ids_by_start_and_end(annotations, start_idx, end_idx):\n",
    "    images = annotations['images']\n",
    "    image_list = [image['id'] for image in images if image['id'] >= int(start_idx) and image['id'] <= int(end_idx) ]\n",
    "    return image_list\n",
    "\n",
    "def get_annotation_ids(annotations, image_id):\n",
    "    image_id_to_annotation_ids = {annotation['image_id']: [] for annotation in annotations['annotations']}\n",
    "    for annotation in annotations['annotations']:\n",
    "        image_id_to_annotation_ids[annotation['image_id']].append(annotation['id'])\n",
    "    return image_id_to_annotation_ids.get(image_id, [])\n",
    "\n",
    "\n",
    "def get_bounding_boxes(annotations, annotation_ids):\n",
    "    annotation_id_to_bbox = {annotation['id']: annotation['bbox'] for annotation in annotations['annotations']}\n",
    "    matching_bboxes = []\n",
    "    for annotation_id in annotation_ids:\n",
    "        bbox = annotation_id_to_bbox.get(annotation_id)\n",
    "        if bbox:\n",
    "            bbox[2] = bbox[0] + bbox[2]\n",
    "            bbox[3] = bbox[1] + bbox[3]\n",
    "            bbox.append(1.0)\n",
    "            matching_bboxes.append(bbox)\n",
    "        if bbox[0] < 0 :\n",
    "            bbox[0] = 1\n",
    "        if bbox[1] < 0 :\n",
    "            bbox[1] = 1\n",
    "    return matching_bboxes\n",
    "\n",
    "\n",
    "# 주어진 이미지 파일 이름\n",
    "annotation_path = '/home/ubuntu/workspace/visualization/add.json'\n",
    "\n",
    "start_idx = 0\n",
    "end_idx = 357\n",
    "\n",
    "annotations = load_annotations(annotation_path)\n",
    "image_list = get_image_ids_by_start_and_end(annotations, start_idx, end_idx)\n",
    "bbox_list = []\n",
    "\n",
    "for image_id in tqdm(image_list):\n",
    "    annotation_list = get_annotation_ids(annotations, image_id)\n",
    "    boxes = get_bounding_boxes(annotations, annotation_list)\n",
    "    bbox_list.append(boxes)"
   ]
  },
  {
   "cell_type": "code",
   "execution_count": 14,
   "id": "1807114c-37b8-4d58-92c2-9e2c7c010316",
   "metadata": {},
   "outputs": [
    {
     "data": {
      "text/plain": [
       "358"
      ]
     },
     "execution_count": 14,
     "metadata": {},
     "output_type": "execute_result"
    }
   ],
   "source": [
    "len(bbox_list)"
   ]
  },
  {
   "cell_type": "code",
   "execution_count": 15,
   "id": "4e465391-51d2-4456-be21-09775f43915f",
   "metadata": {},
   "outputs": [
    {
     "name": "stdout",
     "output_type": "stream",
     "text": [
      "[2338, 2339, 2340, 2341, 2342, 2343]\n"
     ]
    }
   ],
   "source": [
    "print(annotation_list)"
   ]
  },
  {
   "cell_type": "code",
   "execution_count": 16,
   "id": "424c7e54-b3a0-48a7-be9b-7491ebbaf2c0",
   "metadata": {},
   "outputs": [
    {
     "name": "stdout",
     "output_type": "stream",
     "text": [
      "Created subset JSON file: /home/ubuntu/workspace/visualization/tracked_data/add1.json\n"
     ]
    }
   ],
   "source": [
    "def create_coco_subset(json_file, new_json_file, start_id, end_id):\n",
    "    with open(json_file, 'r') as f:\n",
    "        coco_data = json.load(f)\n",
    "\n",
    "    annotations = coco_data['annotations']\n",
    "    new_annotations = []\n",
    "    for annotation in annotations:\n",
    "        annotation_id = annotation['id']\n",
    "        if start_id <= annotation_id <= end_id:\n",
    "            new_annotations.append(annotation)\n",
    "\n",
    "    coco_subset = {\n",
    "        'images': coco_data['images'],\n",
    "        'annotations': new_annotations,\n",
    "        'categories': coco_data['categories']\n",
    "    }\n",
    "\n",
    "    with open(new_json_file, 'w') as f:\n",
    "        json.dump(coco_subset, f)\n",
    "\n",
    "    print(f\"Created subset JSON file: {new_json_file}\")\n",
    "\n",
    "    \n",
    "# Usage example\n",
    "coco_json_file = '/home/ubuntu/workspace/visualization/add.json'\n",
    "output_file = '/home/ubuntu/workspace/visualization/tracked_data/add1.json'\n",
    "subset_start_id = 0\n",
    "subset_end_id = 2343\n",
    "create_coco_subset(coco_json_file, output_file, subset_start_id, subset_end_id)"
   ]
  },
  {
   "cell_type": "code",
   "execution_count": 17,
   "id": "b3901eb7-8812-4280-ad99-f267b6b9cb06",
   "metadata": {},
   "outputs": [
    {
     "name": "stdout",
     "output_type": "stream",
     "text": [
      "2344\n"
     ]
    }
   ],
   "source": [
    "len(bbox_list)\n",
    "lengthOfBbox = 0\n",
    "for bbox in bbox_list:\n",
    "    lengthOfBbox += len(bbox)\n",
    "print(lengthOfBbox)"
   ]
  },
  {
   "cell_type": "code",
   "execution_count": 18,
   "id": "27c95c9e-bb09-4360-bf76-8642f7c59dc3",
   "metadata": {},
   "outputs": [
    {
     "data": {
      "text/plain": [
       "Ellipsis"
      ]
     },
     "execution_count": 18,
     "metadata": {},
     "output_type": "execute_result"
    }
   ],
   "source": [
    "from sort import *\n",
    "import numpy as np\n",
    "\n",
    "#create instance of SORT\n",
    "mot_tracker = Sort(max_age = 30, min_hits = 20, iou_threshold=0.1) \n",
    "lengthOfBbox = 0\n",
    "lengthOfTracks = 0\n",
    "i = 0\n",
    "# update SORT\n",
    "obj_list = []\n",
    "for bbox in bbox_list:\n",
    "    # get detections\n",
    "    lengthOfBbox += len(bbox)\n",
    "    detection = np.array(bbox)\n",
    "    if bbox == []:\n",
    "        track_bbs_ids = mot_tracker.update(np.empty((0, 5)))\n",
    "        #print(\"empty\")\n",
    "    else:\n",
    "        track_bbs_ids = mot_tracker.update(detection)\n",
    "        track_bbs_ids.reshape(-1, 5)\n",
    "        for track_bbs_id in track_bbs_ids:\n",
    "            if track_bbs_id[0] < 0 :\n",
    "                track_bbs_id[0] = 1\n",
    "            if track_bbs_id[1] < 0 :\n",
    "                track_bbs_id[1] = 1\n",
    "            if track_bbs_id[2] < 0 :\n",
    "                track_bbs_id[2] = 1\n",
    "            if track_bbs_id[3] < 0 :\n",
    "                track_bbs_id[3] = 1\n",
    "\n",
    "    lengthOfTracks += len(track_bbs_ids)\n",
    "\n",
    "    # if lengthOfBbox != lengthOfTracks:\n",
    "    #     print(i)\n",
    "    #     print(lengthOfTracks)\n",
    "    #     print(track_bbs_ids)\n",
    "    #     print(len(track_bbs_ids))\n",
    "    #     print(lengthOfBbox)\n",
    "    #     print(bbox)\n",
    "    #     print(len(bbox))\n",
    "\n",
    "    track_bbs_ids = track_bbs_ids.tolist()\n",
    "    if len(track_bbs_ids) != len(bbox) :\n",
    "        dif = lengthOfBbox - lengthOfTracks\n",
    "        while dif != 0:\n",
    "            obj_list.append(-1)\n",
    "            lengthOfTracks += 1\n",
    "            dif = lengthOfBbox - lengthOfTracks\n",
    "    for track_bbs_id in track_bbs_ids:\n",
    "        obj_list.append(track_bbs_id[-1])\n",
    "    \n",
    "    i += 1\n",
    "\n",
    "# track_bbs_ids is a np array where each row contains a valid bounding box and track_id (last column)\n",
    "..."
   ]
  },
  {
   "cell_type": "code",
   "execution_count": 10,
   "id": "8108181f-8cda-4a56-ba22-b45df6a5a1ac",
   "metadata": {},
   "outputs": [
    {
     "name": "stdout",
     "output_type": "stream",
     "text": [
      "440\n",
      "440\n"
     ]
    }
   ],
   "source": [
    "print(lengthOfBbox)\n",
    "print(len(obj_list))"
   ]
  },
  {
   "cell_type": "code",
   "execution_count": 11,
   "id": "91bb4291-20df-44f9-9638-8d4e51673bc2",
   "metadata": {},
   "outputs": [
    {
     "name": "stdout",
     "output_type": "stream",
     "text": [
      "440\n"
     ]
    }
   ],
   "source": [
    "print(len(obj_list))\n",
    "# print(obj_list)"
   ]
  },
  {
   "cell_type": "code",
   "execution_count": 19,
   "id": "f4756adb-445d-4fb1-a6c6-9980d028b4ef",
   "metadata": {},
   "outputs": [
    {
     "name": "stdout",
     "output_type": "stream",
     "text": [
      "Created subset JSON file: /home/ubuntu/workspace/visualization/tracked_data/add1.json\n"
     ]
    }
   ],
   "source": [
    "def create_coco_subset_with_new_bbox(json_file, new_json_file, obj_list):\n",
    "    with open(json_file, 'r') as file:\n",
    "        coco_data = json.load(file)\n",
    "\n",
    "    i=0\n",
    "    annotations = coco_data['annotations']\n",
    "    new_annotations = []\n",
    "    for annotation in annotations:\n",
    "        annotation_id = annotation['id']\n",
    "        obj_id = obj_list[i]\n",
    "        annotation['obj_id'] = obj_id\n",
    "        new_annotations.append(annotation)\n",
    "        i += 1\n",
    "\n",
    "    coco_subset = {\n",
    "        'images': coco_data['images'],\n",
    "        'annotations': new_annotations,\n",
    "        'categories': coco_data['categories']\n",
    "    }\n",
    "\n",
    "    with open(new_json_file, 'w') as f:\n",
    "        json.dump(coco_subset, f)\n",
    "\n",
    "    print(f\"Created subset JSON file: {new_json_file}\")\n",
    "\n",
    "\n",
    "coco_json_file = '/home/ubuntu/workspace/visualization/tracked_data/add1.json'\n",
    "output_file = '/home/ubuntu/workspace/visualization/tracked_data/add1.json'\n",
    "create_coco_subset_with_new_bbox(coco_json_file, output_file, obj_list)"
   ]
  },
  {
   "cell_type": "code",
   "execution_count": 51,
   "id": "3049bdc4-c75a-4262-8a77-2c1da8038b6b",
   "metadata": {},
   "outputs": [
    {
     "name": "stdout",
     "output_type": "stream",
     "text": [
      "[[1468.02897433 1291.6774472  1515.30707044 1323.91960292   15.        ]]\n"
     ]
    }
   ],
   "source": [
    "print(track_bbs_ids)"
   ]
  },
  {
   "cell_type": "code",
   "execution_count": null,
   "id": "cb6e5eca-3daf-4759-a77d-27c82603ac45",
   "metadata": {},
   "outputs": [],
   "source": [
    "print(mot_tracker.frame_count)"
   ]
  },
  {
   "cell_type": "code",
   "execution_count": null,
   "id": "0b576e59-1d98-4ed4-89d8-25a1dfdd0a35",
   "metadata": {},
   "outputs": [],
   "source": [
    "print(track_bbs_ids)"
   ]
  },
  {
   "cell_type": "code",
   "execution_count": null,
   "id": "eddeead1-18e8-4a1b-8e2d-188ac5098702",
   "metadata": {},
   "outputs": [],
   "source": [
    "%pwd"
   ]
  },
  {
   "cell_type": "code",
   "execution_count": null,
   "id": "c6923ea0-3054-482c-99c6-b0e74c1e5de1",
   "metadata": {},
   "outputs": [],
   "source": [
    "%cd .."
   ]
  }
 ],
 "metadata": {
  "kernelspec": {
   "display_name": "Python 3 (ipykernel)",
   "language": "python",
   "name": "python3"
  },
  "language_info": {
   "codemirror_mode": {
    "name": "ipython",
    "version": 3
   },
   "file_extension": ".py",
   "mimetype": "text/x-python",
   "name": "python",
   "nbconvert_exporter": "python",
   "pygments_lexer": "ipython3",
   "version": "3.8.16"
  }
 },
 "nbformat": 4,
 "nbformat_minor": 5
}

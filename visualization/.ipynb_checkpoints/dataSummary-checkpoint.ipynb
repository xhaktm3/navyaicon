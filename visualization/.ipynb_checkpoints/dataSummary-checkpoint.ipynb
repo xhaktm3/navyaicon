{
 "cells": [
  {
   "cell_type": "code",
   "execution_count": null,
   "id": "dbfb4668-8971-4a97-bf51-84e5f307ca3b",
   "metadata": {},
   "outputs": [],
   "source": [
    "import matplotlib.pyplot as plt\n",
    "import numpy as np\n"
   ]
  },
  {
   "cell_type": "code",
   "execution_count": null,
   "id": "5b30eabb-f7cf-4f95-9a26-0e4751ad55e7",
   "metadata": {},
   "outputs": [],
   "source": [
    "def get_count_per_class(coco_json_path):\n",
    "    \"\"\"\n",
    "    Count per class given COCO annotations in dict format.\n",
    "    \"\"\"\n",
    "    with open(coco_json_path) as file:\n",
    "        data = json.load(file)\n",
    "        annotations = data['annotations']\n",
    "        \n",
    "        counts = {}\n",
    "        for annotation in annotations:\n",
    "            category_id = annotation['category_id']\n",
    "            counts[category_id] = counts.get(category_id, 0) + 1\n",
    "            # class_name = id_to_class_name[annotation['category_id']]\n",
    "            # counts[class_name] = counts.get(category_id, 0) + 1\n",
    "        return counts"
   ]
  },
  {
   "cell_type": "code",
   "execution_count": null,
   "id": "1672d404-aeb9-4f29-89a1-df4248b1e942",
   "metadata": {},
   "outputs": [],
   "source": [
    "count_per_class = get_count_per_class(\"/tf/hayoung/data/coco/valid.json\")"
   ]
  },
  {
   "cell_type": "code",
   "execution_count": null,
   "id": "68dab9a5-48a1-49c7-81c6-5e8c2a7e6c42",
   "metadata": {},
   "outputs": [],
   "source": [
    "plt.figure(figsize=(20, 5))\n",
    "plt.bar(count_per_class.keys(), count_per_class.values(), width=0.7, color='g')"
   ]
  },
  {
   "cell_type": "code",
   "execution_count": null,
   "id": "03a892a9-f032-469b-8a14-a7f4631a5521",
   "metadata": {},
   "outputs": [],
   "source": []
  },
  {
   "cell_type": "code",
   "execution_count": null,
   "id": "59970d80-2a22-4b37-a337-e53910ffef40",
   "metadata": {},
   "outputs": [],
   "source": []
  },
  {
   "cell_type": "code",
   "execution_count": null,
   "id": "6d7aebf0-ba05-4cb1-805b-c50cb07203fb",
   "metadata": {},
   "outputs": [],
   "source": [
    "def get_images_size(coco_json_path):\n",
    "    \"\"\"\n",
    "    Count per class given COCO annotations in dict format.\n",
    "    \"\"\"\n",
    "    with open(coco_json_path) as file:\n",
    "        data = json.load(file)\n",
    "        images = data[\"images\"]\n",
    "        counts = {}\n",
    "        for image in images:\n",
    "            width_and_height = \"{}x{}\".format(image[\"width\"], image[\"height\"])\n",
    "            counts[width_and_height] = counts.get(width_and_height, 0) + 1\n",
    "        return counts"
   ]
  },
  {
   "cell_type": "code",
   "execution_count": null,
   "id": "575a2ac1-ba24-45b9-81fa-1b6a090d8ad7",
   "metadata": {},
   "outputs": [],
   "source": [
    "images_size = get_images_size(\"/tf/hayoung/data/coco/valid.json\")"
   ]
  },
  {
   "cell_type": "code",
   "execution_count": null,
   "id": "c44b8e58-8281-4b83-9d6f-7527cf37ea19",
   "metadata": {},
   "outputs": [],
   "source": [
    "plt.figure(figsize=(3, 5))\n",
    "plt.bar(images_size.keys(), images_size.values(), width=0.2, color='g')"
   ]
  }
 ],
 "metadata": {
  "kernelspec": {
   "display_name": "Python 3 (ipykernel)",
   "language": "python",
   "name": "python3"
  },
  "language_info": {
   "codemirror_mode": {
    "name": "ipython",
    "version": 3
   },
   "file_extension": ".py",
   "mimetype": "text/x-python",
   "name": "python",
   "nbconvert_exporter": "python",
   "pygments_lexer": "ipython3",
   "version": "3.8.16"
  }
 },
 "nbformat": 4,
 "nbformat_minor": 5
}

{
 "cells": [
  {
   "cell_type": "code",
   "execution_count": 1,
   "id": "73a44bc6-aa1b-4f1f-8bc7-c887b228dcb6",
   "metadata": {},
   "outputs": [
    {
     "name": "stdout",
     "output_type": "stream",
     "text": [
      "Collecting pyodi\n",
      "  Downloading pyodi-0.0.9-py3-none-any.whl (44 kB)\n",
      "\u001b[2K     \u001b[90m━━━━━━━━━━━━━━━━━━━━━━━━━━━━━━━━━━━━━━━━\u001b[0m \u001b[32m44.4/44.4 kB\u001b[0m \u001b[31m3.7 MB/s\u001b[0m eta \u001b[36m0:00:00\u001b[0m\n",
      "\u001b[?25hCollecting fire==0.4.0\n",
      "  Downloading fire-0.4.0.tar.gz (87 kB)\n",
      "\u001b[2K     \u001b[90m━━━━━━━━━━━━━━━━━━━━━━━━━━━━━━━━━━━━━━━━\u001b[0m \u001b[32m87.7/87.7 kB\u001b[0m \u001b[31m8.9 MB/s\u001b[0m eta \u001b[36m0:00:00\u001b[0m\n",
      "\u001b[?25h  Preparing metadata (setup.py) ... \u001b[?25ldone\n",
      "\u001b[?25hCollecting matplotlib==3.5.2\n",
      "  Downloading matplotlib-3.5.2-cp38-cp38-manylinux_2_5_x86_64.manylinux1_x86_64.whl (11.3 MB)\n",
      "\u001b[2K     \u001b[90m━━━━━━━━━━━━━━━━━━━━━━━━━━━━━━━━━━━━━━━━\u001b[0m \u001b[32m11.3/11.3 MB\u001b[0m \u001b[31m21.8 MB/s\u001b[0m eta \u001b[36m0:00:00\u001b[0m00:01\u001b[0m00:01\u001b[0m\n",
      "\u001b[?25hCollecting numba>=0.56.0\n",
      "  Downloading numba-0.57.1-cp38-cp38-manylinux2014_x86_64.manylinux_2_17_x86_64.whl (3.6 MB)\n",
      "\u001b[2K     \u001b[90m━━━━━━━━━━━━━━━━━━━━━━━━━━━━━━━━━━━━━━━━\u001b[0m \u001b[32m3.6/3.6 MB\u001b[0m \u001b[31m51.2 MB/s\u001b[0m eta \u001b[36m0:00:00\u001b[0m:00:01\u001b[0m\n",
      "\u001b[?25hCollecting pandas==1.4.2\n",
      "  Downloading pandas-1.4.2-cp38-cp38-manylinux_2_17_x86_64.manylinux2014_x86_64.whl (11.7 MB)\n",
      "\u001b[2K     \u001b[90m━━━━━━━━━━━━━━━━━━━━━━━━━━━━━━━━━━━━━━━━\u001b[0m \u001b[32m11.7/11.7 MB\u001b[0m \u001b[31m54.8 MB/s\u001b[0m eta \u001b[36m0:00:00\u001b[0m00:01\u001b[0m00:01\u001b[0m\n",
      "\u001b[?25hCollecting scikit-learn==1.1.1\n",
      "  Downloading scikit_learn-1.1.1-cp38-cp38-manylinux_2_17_x86_64.manylinux2014_x86_64.whl (31.2 MB)\n",
      "\u001b[2K     \u001b[90m━━━━━━━━━━━━━━━━━━━━━━━━━━━━━━━━━━━━━━━━\u001b[0m \u001b[32m31.2/31.2 MB\u001b[0m \u001b[31m24.0 MB/s\u001b[0m eta \u001b[36m0:00:00\u001b[0m00:01\u001b[0m00:01\u001b[0m\n",
      "\u001b[?25hCollecting plotly==5.9.0\n",
      "  Downloading plotly-5.9.0-py2.py3-none-any.whl (15.2 MB)\n",
      "\u001b[2K     \u001b[90m━━━━━━━━━━━━━━━━━━━━━━━━━━━━━━━━━━━━━━━━\u001b[0m \u001b[32m15.2/15.2 MB\u001b[0m \u001b[31m52.4 MB/s\u001b[0m eta \u001b[36m0:00:00\u001b[0m00:01\u001b[0m00:01\u001b[0m\n",
      "\u001b[?25hRequirement already satisfied: kaleido==v0.2.1 in /home/ubuntu/miniconda3/lib/python3.8/site-packages (from pyodi) (0.2.1)\n",
      "Collecting numpy==1.22.1\n",
      "  Downloading numpy-1.22.1-cp38-cp38-manylinux_2_17_x86_64.manylinux2014_x86_64.whl (16.8 MB)\n",
      "\u001b[2K     \u001b[90m━━━━━━━━━━━━━━━━━━━━━━━━━━━━━━━━━━━━━━━━\u001b[0m \u001b[32m16.8/16.8 MB\u001b[0m \u001b[31m27.1 MB/s\u001b[0m eta \u001b[36m0:00:00\u001b[0m00:01\u001b[0m00:01\u001b[0m\n",
      "\u001b[?25hCollecting pillow==9.2.0\n",
      "  Downloading Pillow-9.2.0-cp38-cp38-manylinux_2_28_x86_64.whl (3.2 MB)\n",
      "\u001b[2K     \u001b[90m━━━━━━━━━━━━━━━━━━━━━━━━━━━━━━━━━━━━━━━━\u001b[0m \u001b[32m3.2/3.2 MB\u001b[0m \u001b[31m51.8 MB/s\u001b[0m eta \u001b[36m0:00:00\u001b[0m:00:01\u001b[0m\n",
      "\u001b[?25hCollecting pycocotools==2.0.4\n",
      "  Downloading pycocotools-2.0.4.tar.gz (106 kB)\n",
      "\u001b[2K     \u001b[90m━━━━━━━━━━━━━━━━━━━━━━━━━━━━━━━━━━━━━━\u001b[0m \u001b[32m106.6/106.6 kB\u001b[0m \u001b[31m12.9 MB/s\u001b[0m eta \u001b[36m0:00:00\u001b[0m\n",
      "\u001b[?25h  Installing build dependencies ... \u001b[?25ldone\n",
      "\u001b[?25h  Getting requirements to build wheel ... \u001b[?25ldone\n",
      "\u001b[?25h  Preparing metadata (pyproject.toml) ... \u001b[?25ldone\n",
      "\u001b[?25hCollecting loguru==0.6.0\n",
      "  Downloading loguru-0.6.0-py3-none-any.whl (58 kB)\n",
      "\u001b[2K     \u001b[90m━━━━━━━━━━━━━━━━━━━━━━━━━━━━━━━━━━━━━━━━\u001b[0m \u001b[32m58.3/58.3 kB\u001b[0m \u001b[31m7.3 MB/s\u001b[0m eta \u001b[36m0:00:00\u001b[0m\n",
      "\u001b[?25hRequirement already satisfied: six in /home/ubuntu/miniconda3/lib/python3.8/site-packages (from fire==0.4.0->pyodi) (1.16.0)\n",
      "Requirement already satisfied: termcolor in /home/ubuntu/miniconda3/lib/python3.8/site-packages (from fire==0.4.0->pyodi) (2.3.0)\n",
      "Requirement already satisfied: python-dateutil>=2.7 in /home/ubuntu/miniconda3/lib/python3.8/site-packages (from matplotlib==3.5.2->pyodi) (2.8.2)\n",
      "Requirement already satisfied: kiwisolver>=1.0.1 in /home/ubuntu/.local/lib/python3.8/site-packages (from matplotlib==3.5.2->pyodi) (1.4.4)\n",
      "Requirement already satisfied: cycler>=0.10 in /home/ubuntu/.local/lib/python3.8/site-packages (from matplotlib==3.5.2->pyodi) (0.11.0)\n",
      "Requirement already satisfied: fonttools>=4.22.0 in /home/ubuntu/.local/lib/python3.8/site-packages (from matplotlib==3.5.2->pyodi) (4.40.0)\n",
      "Requirement already satisfied: pyparsing>=2.2.1 in /home/ubuntu/.local/lib/python3.8/site-packages (from matplotlib==3.5.2->pyodi) (3.1.0)\n",
      "Requirement already satisfied: packaging>=20.0 in /home/ubuntu/miniconda3/lib/python3.8/site-packages (from matplotlib==3.5.2->pyodi) (23.0)\n",
      "Requirement already satisfied: pytz>=2020.1 in /home/ubuntu/.local/lib/python3.8/site-packages (from pandas==1.4.2->pyodi) (2023.3)\n",
      "Requirement already satisfied: tenacity>=6.2.0 in /home/ubuntu/miniconda3/lib/python3.8/site-packages (from plotly==5.9.0->pyodi) (8.2.2)\n",
      "Requirement already satisfied: threadpoolctl>=2.0.0 in /home/ubuntu/miniconda3/lib/python3.8/site-packages (from scikit-learn==1.1.1->pyodi) (3.1.0)\n",
      "Requirement already satisfied: joblib>=1.0.0 in /home/ubuntu/miniconda3/lib/python3.8/site-packages (from scikit-learn==1.1.1->pyodi) (1.2.0)\n",
      "Requirement already satisfied: scipy>=1.3.2 in /home/ubuntu/.local/lib/python3.8/site-packages (from scikit-learn==1.1.1->pyodi) (1.10.1)\n",
      "Requirement already satisfied: importlib-metadata in /home/ubuntu/miniconda3/lib/python3.8/site-packages (from numba>=0.56.0->pyodi) (6.6.0)\n",
      "Collecting llvmlite<0.41,>=0.40.0dev0\n",
      "  Downloading llvmlite-0.40.1-cp38-cp38-manylinux_2_17_x86_64.manylinux2014_x86_64.whl (42.1 MB)\n",
      "\u001b[2K     \u001b[90m━━━━━━━━━━━━━━━━━━━━━━━━━━━━━━━━━━━━━━━━\u001b[0m \u001b[32m42.1/42.1 MB\u001b[0m \u001b[31m27.7 MB/s\u001b[0m eta \u001b[36m0:00:00\u001b[0m00:01\u001b[0m00:01\u001b[0m\n",
      "\u001b[?25hRequirement already satisfied: zipp>=0.5 in /home/ubuntu/miniconda3/lib/python3.8/site-packages (from importlib-metadata->numba>=0.56.0->pyodi) (3.15.0)\n",
      "Building wheels for collected packages: fire, pycocotools\n",
      "  Building wheel for fire (setup.py) ... \u001b[?25ldone\n",
      "\u001b[?25h  Created wheel for fire: filename=fire-0.4.0-py2.py3-none-any.whl size=115927 sha256=e6736012710db6ffd0cc251eda11087e12a114a1344ee9b76638308007ac1d18\n",
      "  Stored in directory: /home/ubuntu/.cache/pip/wheels/1f/10/06/2a990ee4d73a8479fe2922445e8a876d38cfbfed052284c6a1\n",
      "  Building wheel for pycocotools (pyproject.toml) ... \u001b[?25ldone\n",
      "\u001b[?25h  Created wheel for pycocotools: filename=pycocotools-2.0.4-cp38-cp38-linux_x86_64.whl size=422700 sha256=00c95b5a8f19a35d6f2453c21369dbf352bbed264b9a3c992a2d030eb9f4df8d\n",
      "  Stored in directory: /home/ubuntu/.cache/pip/wheels/dd/e2/43/3e93cd653b3346b3d702bb0509bc611189f95d60407bff1484\n",
      "Successfully built fire pycocotools\n",
      "Installing collected packages: plotly, pillow, numpy, loguru, llvmlite, fire, pandas, numba, matplotlib, scikit-learn, pycocotools, pyodi\n",
      "  Attempting uninstall: plotly\n",
      "    Found existing installation: plotly 5.15.0\n",
      "    Uninstalling plotly-5.15.0:\n",
      "      Successfully uninstalled plotly-5.15.0\n",
      "  Attempting uninstall: pillow\n",
      "    Found existing installation: Pillow 9.5.0\n",
      "    Uninstalling Pillow-9.5.0:\n",
      "      Successfully uninstalled Pillow-9.5.0\n",
      "  Attempting uninstall: numpy\n",
      "    Found existing installation: numpy 1.22.0\n",
      "    Uninstalling numpy-1.22.0:\n",
      "      Successfully uninstalled numpy-1.22.0\n",
      "  Attempting uninstall: pandas\n",
      "    Found existing installation: pandas 1.5.3\n",
      "    Uninstalling pandas-1.5.3:\n",
      "      Successfully uninstalled pandas-1.5.3\n",
      "  Attempting uninstall: matplotlib\n",
      "    Found existing installation: matplotlib 3.7.1\n",
      "    Uninstalling matplotlib-3.7.1:\n",
      "      Successfully uninstalled matplotlib-3.7.1\n",
      "  Attempting uninstall: scikit-learn\n",
      "    Found existing installation: scikit-learn 1.2.2\n",
      "    Uninstalling scikit-learn-1.2.2:\n",
      "      Successfully uninstalled scikit-learn-1.2.2\n",
      "  Attempting uninstall: pycocotools\n",
      "    Found existing installation: pycocotools 2.0.6\n",
      "    Uninstalling pycocotools-2.0.6:\n",
      "      Successfully uninstalled pycocotools-2.0.6\n",
      "\u001b[31mERROR: pip's dependency resolver does not currently take into account all the packages that are installed. This behaviour is the source of the following dependency conflicts.\n",
      "modelscope 1.6.1 requires numpy<=1.22.0, but you have numpy 1.22.1 which is incompatible.\u001b[0m\u001b[31m\n",
      "\u001b[0mSuccessfully installed fire-0.4.0 llvmlite-0.40.1 loguru-0.6.0 matplotlib-3.5.2 numba-0.57.1 numpy-1.22.1 pandas-1.4.2 pillow-9.2.0 plotly-5.9.0 pycocotools-2.0.4 pyodi-0.0.9 scikit-learn-1.1.1\n"
     ]
    }
   ],
   "source": [
    "!pip install pyodi"
   ]
  },
  {
   "cell_type": "code",
   "execution_count": 39,
   "id": "e7b59499-280d-48a2-99b3-9d0b1cfa8df9",
   "metadata": {},
   "outputs": [
    {
     "name": "stdout",
     "output_type": "stream",
     "text": [
      "/home/ubuntu/workspace/datasets/pyodi\n"
     ]
    }
   ],
   "source": [
    "%cd pyodi"
   ]
  },
  {
   "cell_type": "code",
   "execution_count": 50,
   "id": "6a3a386d-cd21-4d31-bbc9-8b1c0f90a038",
   "metadata": {},
   "outputs": [
    {
     "name": "stdout",
     "output_type": "stream",
     "text": [
      "\u001b[32m2023-06-28 14:16:19.375\u001b[0m | \u001b[1mINFO    \u001b[0m | \u001b[36mpyodi.core.utils\u001b[0m:\u001b[36mcoco_ground_truth_to_df\u001b[0m:\u001b[36m38\u001b[0m - \u001b[1mLoading Ground Truth File\u001b[0m\n",
      "\u001b[32m2023-06-28 14:16:20.251\u001b[0m | \u001b[1mINFO    \u001b[0m | \u001b[36mpyodi.core.utils\u001b[0m:\u001b[36mcoco_ground_truth_to_df\u001b[0m:\u001b[36m48\u001b[0m - \u001b[1mConverting COCO Ground Truth to pd.DataFrame\u001b[0m\n",
      "\u001b[32m2023-06-28 14:16:20.878\u001b[0m | \u001b[1mINFO    \u001b[0m | \u001b[36mpyodi.plots.common\u001b[0m:\u001b[36mplot_scatter_with_histograms\u001b[0m:\u001b[36m61\u001b[0m - \u001b[1mPlotting Scatter with Histograms\u001b[0m\n",
      "dict(color=colors[i % len(colors)] if colors else None {'color': None}\n",
      "\u001b[32m2023-06-28 14:16:26.050\u001b[0m | \u001b[1mINFO    \u001b[0m | \u001b[36mpyodi.plots.common\u001b[0m:\u001b[36mplot_scatter_with_histograms\u001b[0m:\u001b[36m61\u001b[0m - \u001b[1mPlotting Scatter with Histograms\u001b[0m\n",
      "dict(color=colors[i % len(colors)] if colors else None {'color': None}\n",
      "\u001b[0m"
     ]
    }
   ],
   "source": [
    "!pyodi ground-truth /home/ubuntu/workspace/datasets/final_dataset/train/annotations/EO-train.json --output /home/ubuntu/workspace/visualization/meta-data"
   ]
  },
  {
   "cell_type": "code",
   "execution_count": null,
   "id": "3973a331-5f3a-441f-9174-165c8e1b8758",
   "metadata": {},
   "outputs": [],
   "source": []
  }
 ],
 "metadata": {
  "kernelspec": {
   "display_name": "Python 3 (ipykernel)",
   "language": "python",
   "name": "python3"
  },
  "language_info": {
   "codemirror_mode": {
    "name": "ipython",
    "version": 3
   },
   "file_extension": ".py",
   "mimetype": "text/x-python",
   "name": "python",
   "nbconvert_exporter": "python",
   "pygments_lexer": "ipython3",
   "version": "3.8.16"
  }
 },
 "nbformat": 4,
 "nbformat_minor": 5
}

{
 "cells": [
  {
   "cell_type": "code",
   "execution_count": null,
   "id": "8c22454c-5db4-427c-8a0b-8d22cb111fda",
   "metadata": {},
   "outputs": [],
   "source": [
    "finals = [\n",
    "\"2019_08_19_GOPR5869_1530_phantom\",\n",
    "\"00_06_10_to_00_06_27\",\n",
    "\"00_02_45_to_00_03_10_cut\",\n",
    "\"dji_matrice_210_off_focus\",\n",
    "\"dji_phantom_4_hillside_cross\",\n",
    "\"fixed_wing_over_hill_1\",\n",
    "\"GOPR5845_004\"\n",
    "\"GOPR5847_003\"\n",
    "]"
   ]
  },
  {
   "cell_type": "code",
   "execution_count": null,
   "id": "f236db39-9aa1-4227-aa56-340b1041f66e",
   "metadata": {},
   "outputs": [],
   "source": [
    "import glob"
   ]
  }
 ],
 "metadata": {
  "kernelspec": {
   "display_name": "Python 3 (ipykernel)",
   "language": "python",
   "name": "python3"
  },
  "language_info": {
   "codemirror_mode": {
    "name": "ipython",
    "version": 3
   },
   "file_extension": ".py",
   "mimetype": "text/x-python",
   "name": "python",
   "nbconvert_exporter": "python",
   "pygments_lexer": "ipython3",
   "version": "3.8.16"
  }
 },
 "nbformat": 4,
 "nbformat_minor": 5
}

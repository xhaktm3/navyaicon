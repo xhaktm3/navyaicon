{
 "cells": [
  {
   "cell_type": "code",
   "execution_count": 2,
   "id": "e01848f2-e18a-4e82-bf58-8d4043519d54",
   "metadata": {},
   "outputs": [],
   "source": [
    "from PIL import Image\n",
    "\n",
    "def resize_image(image_path, output_path):\n",
    "    # 이미지 열기\n",
    "    image = Image.open(image_path)\n",
    "\n",
    "    # 이미지의 가로, 세로 크기 구하기\n",
    "    width, height = image.size\n",
    "\n",
    "    # 잘라낼 영역 정의\n",
    "    left = int(width * 0.1)     # 좌측 일부 잘라내기\n",
    "    top = int(height * 0.1)     # 상단 일부 잘라내기\n",
    "    right = int(width * 0.9)    # 우측 일부 잘라내기\n",
    "    bottom = int(height * 0.9)  # 하단 일부 잘라내기\n",
    "\n",
    "    # 이미지 일부 잘라내기\n",
    "    cropped_image = image.crop((left, top, right, bottom))\n",
    "\n",
    "    # 원본 크기로 이미지 키우기\n",
    "    resized_image = cropped_image.resize((width, height))\n",
    "\n",
    "    # 이미지 저장\n",
    "    resized_image.save(output_path)\n",
    "\n",
    "# 사용 예시\n",
    "input_image_path = \"/home/ubuntu/workspace/visualization/augmented_data/0.jpg\"      # 입력 이미지 경로\n",
    "output_image_path = \"/home/ubuntu/workspace/visualization/0.jpg\"    # 출력 이미지 경로\n",
    "\n",
    "resize_image(input_image_path, output_image_path)"
   ]
  },
  {
   "cell_type": "code",
   "execution_count": null,
   "id": "21a9687c-b515-4585-8fe1-f281cb5c3d9a",
   "metadata": {},
   "outputs": [],
   "source": [
    "#resolution 변경\n",
    "\n",
    "from PIL import Image\n",
    "\n",
    "def increase_resolution(image_path):\n",
    "    # 이미지 열기\n",
    "    image = Image.open(image_path)\n",
    "    \n",
    "    # 새로운 해상도 계산\n",
    "    new_width = image.width * 2\n",
    "    new_height = image.height * 2\n",
    "    \n",
    "    # 보간(interpolation)을 사용하여 이미지 크기 조정\n",
    "    resized_image = image.resize((new_width, new_height), Image.LANCZOS)\n",
    "    \n",
    "    return resized_image"
   ]
  }
 ],
 "metadata": {
  "kernelspec": {
   "display_name": "Python 3 (ipykernel)",
   "language": "python",
   "name": "python3"
  },
  "language_info": {
   "codemirror_mode": {
    "name": "ipython",
    "version": 3
   },
   "file_extension": ".py",
   "mimetype": "text/x-python",
   "name": "python",
   "nbconvert_exporter": "python",
   "pygments_lexer": "ipython3",
   "version": "3.8.16"
  }
 },
 "nbformat": 4,
 "nbformat_minor": 5
}

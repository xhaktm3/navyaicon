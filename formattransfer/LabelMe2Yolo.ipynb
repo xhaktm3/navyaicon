{
 "cells": [
  {
   "cell_type": "code",
   "execution_count": null,
   "id": "184dc809",
   "metadata": {},
   "outputs": [],
   "source": [
    "%pip install scikit-learn"
   ]
  },
  {
   "cell_type": "code",
   "execution_count": 5,
   "id": "1d05284e",
   "metadata": {},
   "outputs": [],
   "source": [
    "import os\n",
    "import pandas as pd\n",
    "import numpy as np\n",
    "import cv2\n",
    "import shutil\n",
    "import yaml\n",
    "import warnings\n",
    "warnings.filterwarnings(\"ignore\")\n",
    "\n",
    "from glob import glob\n",
    "from tqdm import tqdm\n",
    "from IPython.display import clear_output\n",
    "from sklearn.model_selection import train_test_split"
   ]
  },
  {
   "cell_type": "code",
   "execution_count": 6,
   "id": "b03a4cc7",
   "metadata": {},
   "outputs": [],
   "source": [
    "image_paths = sorted(glob(\"/home/ubuntu/workspace/datasets/dacon/yolo/images/train/*.png\")) # 절대경로 지정 필요\n",
    "txt_paths = sorted(glob(\"/home/ubuntu/workspace/datasets/dacon/testing_transfers/labelme_data/*.txt\")) # 절대경로 지정 필요\n",
    "\n",
    "SEED = 42\n",
    "MODEL = 'v1'\n",
    "train_images_paths, valid_images_paths, train_txt_paths, valid_txt_paths = train_test_split(image_paths, txt_paths, test_size=0.1, random_state=SEED)"
   ]
  },
  {
   "cell_type": "code",
   "execution_count": 7,
   "id": "cf7f3d42",
   "metadata": {},
   "outputs": [],
   "source": [
    "def labelMe2Yolo(image_paths, txt_paths, type=\"train\"):\n",
    "    for image_path, txt_path in tqdm(zip(image_paths, txt_paths if not type == \"test\" else image_paths), total=len(image_paths)):\n",
    "        source_image = cv2.imread(image_path, cv2.IMREAD_COLOR)        \n",
    "        image_height, image_width, _ = source_image.shape\n",
    "        \n",
    "        target_image_path = f\"/home/ubuntu/workspace/datasets/dacon/testing_transfers/yolo/{type}/{os.path.basename(image_path)}\" # 절대경로 지정 필요\n",
    "        cv2.imwrite(target_image_path, source_image)\n",
    "        \n",
    "        if type == \"test\":\n",
    "            continue\n",
    "        \n",
    "        with open(txt_path, \"r\") as reader:\n",
    "            yolo_labels = []\n",
    "            lines = reader.readlines()\n",
    "            for line in lines:\n",
    "                line = list(map(float, line.strip().split(\" \")))\n",
    "                class_id = int(line[0])\n",
    "                x_min, y_min = float(min(line[5], line[7])), float(min(line[6], line[8]))\n",
    "                x_max, y_max = float(max(line[1], line[3])), float(max(line[2], line[4]))\n",
    "                x, y = float(((x_min + x_max) / 2) / image_width), float(((y_min + y_max) / 2) / image_height)\n",
    "                w, h = abs(x_max - x_min) / image_width, abs(y_max - y_min) / image_height\n",
    "                yolo_labels.append(f\"{class_id} {x} {y} {w} {h}\")\n",
    "            \n",
    "        target_label_txt = f\"/home/ubuntu/workspace/datasets/dacon/testing_transfers/yolo/{type}/{os.path.basename(txt_path)}\" # 절대경로 지정 필요      \n",
    "        with open(target_label_txt, \"w\") as writer:\n",
    "            for yolo_label in yolo_labels:\n",
    "                writer.write(f\"{yolo_label}\\n\")"
   ]
  },
  {
   "cell_type": "code",
   "execution_count": null,
   "id": "95583a48",
   "metadata": {},
   "outputs": [],
   "source": [
    "# YAML File 만드는 코드 (optional)\n",
    "\n",
    "with open(\"/data/classes.txt\", \"r\") as reader:\n",
    "    lines = reader.readlines()\n",
    "    classes = [line.strip().split(\",\")[1] for line in lines]\n",
    "\n",
    "yaml_data = {\n",
    "              \"names\": classes,\n",
    "              \"nc\": len(classes),\n",
    "              \"path\": \"/data/yolo/\",\n",
    "              \"train\": \"train\",\n",
    "              \"val\": \"valid\",\n",
    "              \"test\": \"test\"\n",
    "            }\n",
    "\n",
    "with open(\"/data/yolocustom.yaml\", \"w\") as writer:\n",
    "    yaml.dump(yaml_data, writer)"
   ]
  },
  {
   "cell_type": "code",
   "execution_count": 10,
   "id": "36e98d96",
   "metadata": {},
   "outputs": [
    {
     "name": "stderr",
     "output_type": "stream",
     "text": [
      "100%|██████████| 5832/5832 [13:38<00:00,  7.13it/s]\n",
      "100%|██████████| 649/649 [01:31<00:00,  7.12it/s]\n"
     ]
    }
   ],
   "source": [
    "labelMe2Yolo(train_images_paths, train_txt_paths, \"train\")\n",
    "labelMe2Yolo(valid_images_paths, valid_txt_paths, \"valid\")\n",
    "\n",
    "# labelMe2Yolo(sorted(glob(\"/test/*.png\")), None, \"test\") # 테스트 이미지 폴더 절대경로 지정 필요"
   ]
  },
  {
   "cell_type": "code",
   "execution_count": null,
   "id": "4b1da149",
   "metadata": {},
   "outputs": [],
   "source": []
  },
  {
   "cell_type": "code",
   "execution_count": 16,
   "id": "3762edd8",
   "metadata": {},
   "outputs": [
    {
     "name": "stderr",
     "output_type": "stream",
     "text": [
      "100%|██████████| 649/649 [00:00<00:00, 52076.74it/s]\n"
     ]
    }
   ],
   "source": [
    "# source_txts = glob(f\"{MODEL}/predict/labels/*.txt\")\n",
    "source_txts = glob(\"/tf/hayoung/datafortransformation/yolo/valid/*.txt\")\n",
    "\n",
    "\n",
    "# CSV 형태 Submission이 필요한 경우 \n",
    "# confidence 필요 시 나중에 추가할 것\n",
    "def submitYoloAsCSV(source_txts):\n",
    "    results = []\n",
    "    for source_txt in tqdm(source_txts):\n",
    "        file_name = source_txt.split(\"/\")[-1].replace(\".txt\", \".png\") #필요시 이미지 확장자 변경할 것\n",
    "        with open(source_txt, \"r\") as reader:        \n",
    "            lines = reader.readlines()\n",
    "            for line in lines: # confidence 필요 시 나중에 추가\n",
    "                line = list(map(float, line.strip().split(\" \")))\n",
    "                class_id = int(line[0])\n",
    "                point_x = line[1]\n",
    "                point_y = line[2]\n",
    "                width = line[3]\n",
    "                height = line[4]\n",
    "                \n",
    "                results.append((file_name, class_id, point_x, point_y, width, height))\n",
    "                \n",
    "    df_submission = pd.DataFrame(data=results, columns=[\"file_name\", \"class_id\", \"point_x\", \"point_y\", \"width\", \"height\"])\n",
    "    df_submission.to_csv(f\"/tf/hayoung/results/yolo_{MODEL}.csv\", index=False) # 경로 나중에 변경할 것\n",
    "    \n",
    "submitYoloAsCSV(source_txts)"
   ]
  },
  {
   "cell_type": "code",
   "execution_count": null,
   "id": "20a761bb",
   "metadata": {},
   "outputs": [],
   "source": []
  }
 ],
 "metadata": {
  "kernelspec": {
   "display_name": "Python 3 (ipykernel)",
   "language": "python",
   "name": "python3"
  },
  "language_info": {
   "codemirror_mode": {
    "name": "ipython",
    "version": 3
   },
   "file_extension": ".py",
   "mimetype": "text/x-python",
   "name": "python",
   "nbconvert_exporter": "python",
   "pygments_lexer": "ipython3",
   "version": "3.8.16"
  }
 },
 "nbformat": 4,
 "nbformat_minor": 5
}

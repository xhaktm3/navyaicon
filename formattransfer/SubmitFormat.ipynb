{
 "cells": [
  {
   "cell_type": "code",
   "execution_count": 16,
   "id": "fa7d5c9a-196d-46ad-9947-749b3a58b23e",
   "metadata": {},
   "outputs": [],
   "source": [
    "import json\n",
    "from tqdm import tqdm\n",
    "from glob import glob\n",
    "import cv2\n",
    "def convert_coco_result_to_txt(json_path, output_file, encoding='utf-8'):\n",
    "    with open(json_path, encoding=encoding) as cocojson:\n",
    "        annotation_json = json.load(cocojson)\n",
    "        images = annotation_json[\"images\"]\n",
    "    with open(output_file, 'w') as f:\n",
    "        for ann in tqdm(annotation_json[\"annotations\"]):\n",
    "            image_name = images[ann['image_id']]['file_name'].split('/')[-1]\n",
    "            category_id = ann['category_id']\n",
    "            bbox = ann['bbox']\n",
    "            score = ann['confidence']\n",
    "    \n",
    "            line = f\"'{image_name}',{bbox[0]},{bbox[1]},{bbox[2]},{bbox[3]},{score},{1}\\n\"\n",
    "            f.write(line)"
   ]
  },
  {
   "cell_type": "code",
   "execution_count": 9,
   "id": "879d8f5b-462d-45b2-bc83-1fe36fac5155",
   "metadata": {},
   "outputs": [],
   "source": [
    "coco_json_path = '/home/elicer/navyai/yuns/yolo/output/yolov8_small_final.json'\n",
    "output_file = '/home/elicer/navyai/yuns/yolo/output/떡잎마을방범대_submission.txt'\n",
    "\n",
    "convert_coco_result_to_txt(coco_json_path, output_file)"
   ]
  },
  {
   "cell_type": "code",
   "execution_count": 22,
   "id": "4ff8d007-cab6-48d0-aa10-26edd61cdeda",
   "metadata": {},
   "outputs": [
    {
     "ename": "KeyboardInterrupt",
     "evalue": "",
     "output_type": "error",
     "traceback": [
      "\u001b[0;31m---------------------------------------------------------------------------\u001b[0m",
      "\u001b[0;31mKeyboardInterrupt\u001b[0m                         Traceback (most recent call last)",
      "Cell \u001b[0;32mIn[22], line 8\u001b[0m\n\u001b[1;32m      6\u001b[0m img_name \u001b[38;5;241m=\u001b[39m path\u001b[38;5;241m.\u001b[39msplit(\u001b[38;5;124m\"\u001b[39m\u001b[38;5;124m/\u001b[39m\u001b[38;5;124m\"\u001b[39m)[\u001b[38;5;241m-\u001b[39m\u001b[38;5;241m1\u001b[39m]\u001b[38;5;241m.\u001b[39msplit(\u001b[38;5;124m\"\u001b[39m\u001b[38;5;124m.\u001b[39m\u001b[38;5;124m\"\u001b[39m)[\u001b[38;5;241m0\u001b[39m] \u001b[38;5;241m+\u001b[39m\u001b[38;5;124m\"\u001b[39m\u001b[38;5;124m.jpg\u001b[39m\u001b[38;5;124m\"\u001b[39m\n\u001b[1;32m      7\u001b[0m lines \u001b[38;5;241m=\u001b[39m \u001b[38;5;28minput\u001b[39m\u001b[38;5;241m.\u001b[39mreadlines()\n\u001b[0;32m----> 8\u001b[0m img \u001b[38;5;241m=\u001b[39m \u001b[43mcv2\u001b[49m\u001b[38;5;241;43m.\u001b[39;49m\u001b[43mimread\u001b[49m\u001b[43m(\u001b[49m\u001b[43mimg_path\u001b[49m\u001b[43m \u001b[49m\u001b[38;5;241;43m+\u001b[39;49m\u001b[43m \u001b[49m\u001b[43mimg_name\u001b[49m\u001b[43m,\u001b[49m\u001b[43mcv2\u001b[49m\u001b[38;5;241;43m.\u001b[39;49m\u001b[43mIMREAD_COLOR\u001b[49m\u001b[43m)\u001b[49m\n\u001b[1;32m      9\u001b[0m img_h, img_w, _ \u001b[38;5;241m=\u001b[39mimg\u001b[38;5;241m.\u001b[39mshape\n\u001b[1;32m     10\u001b[0m \u001b[38;5;28;01mwith\u001b[39;00m \u001b[38;5;28mopen\u001b[39m(save_path \u001b[38;5;241m+\u001b[39m path\u001b[38;5;241m.\u001b[39msplit(\u001b[38;5;124m\"\u001b[39m\u001b[38;5;124m/\u001b[39m\u001b[38;5;124m\"\u001b[39m)[\u001b[38;5;241m-\u001b[39m\u001b[38;5;241m1\u001b[39m] , \u001b[38;5;124m'\u001b[39m\u001b[38;5;124mw\u001b[39m\u001b[38;5;124m'\u001b[39m) \u001b[38;5;28;01mas\u001b[39;00m f:\n",
      "\u001b[0;31mKeyboardInterrupt\u001b[0m: "
     ]
    }
   ],
   "source": [
    "data_path = glob(\"/home/ubuntu/workspace/yuns/yolo/yolov8x_navyai_add_newwwwwwww/predict/labels/*.txt\")\n",
    "save_path = \"/home/ubuntu/workspace/yuns/yolo/yolov8x_navyai_add_newwwwwwww/submit/\"\n",
    "img_path = \"/home/ubuntu/workspace/datasets/final_dataset/test/image/\"\n",
    "for path in tqdm(data_path):\n",
    "    with open(path,'r') as input:\n",
    "        img_name = path.split(\"/\")[-1].split(\".\")[0] +\".jpg\"\n",
    "        lines = input.readlines()\n",
    "        img = cv2.imread(img_path + img_name,cv2.IMREAD_COLOR)\n",
    "        img_h, img_w, _ =img.shape\n",
    "        with open(save_path + path.split(\"/\")[-1] , 'w') as f:\n",
    "            for line in lines:\n",
    "                line = line.strip().split(\" \")\n",
    "                class_id, x_r, y_r, w_r, h_r, conf = line  #infer\n",
    "                w = int(float(w_r) * img_w)\n",
    "                h = int(float(h_r) * img_h)\n",
    "                x = int(float(x_r) * img_w - w/2)\n",
    "                y = int(float(y_r) * img_h - h/2)\n",
    "                line = f\"'{img_name}',{x},{y},{w},{h},{conf},{1}\\n\"\n",
    "            "
   ]
  },
  {
   "cell_type": "code",
   "execution_count": null,
   "id": "f173528f-0013-4cd2-9e0c-c704444895d1",
   "metadata": {},
   "outputs": [],
   "source": []
  }
 ],
 "metadata": {
  "kernelspec": {
   "display_name": "Python 3 (ipykernel)",
   "language": "python",
   "name": "python3"
  },
  "language_info": {
   "codemirror_mode": {
    "name": "ipython",
    "version": 3
   },
   "file_extension": ".py",
   "mimetype": "text/x-python",
   "name": "python",
   "nbconvert_exporter": "python",
   "pygments_lexer": "ipython3",
   "version": "3.8.16"
  }
 },
 "nbformat": 4,
 "nbformat_minor": 5
}

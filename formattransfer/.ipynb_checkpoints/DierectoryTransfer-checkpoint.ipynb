{
 "cells": [
  {
   "cell_type": "code",
   "execution_count": null,
   "id": "e428aa58-da81-4205-80b1-3d6295a394a7",
   "metadata": {},
   "outputs": [],
   "source": [
    "import os\n",
    "import shutil\n",
    "\n",
    "def move_directory(source_path, destination_path):\n",
    "    # 경로 확인\n",
    "    if not os.path.exists(source_path):\n",
    "        print(\"소스 경로가 유효하지 않습니다.\")\n",
    "        return\n",
    "\n",
    "    if not os.path.exists(destination_path):\n",
    "        print(\"목적 경로가 유효하지 않습니다.\")\n",
    "        return\n",
    "\n",
    "    # 폴더 이동\n",
    "    shutil.copytree(source_path, destination_path)\n",
    "    shutil.rmtree(source_path)\n",
    "    print(f\"{source_path}를 {destination_path}로 이동했습니다.\")\n",
    "\n",
    "# 사용 예시\n",
    "model_name = 'yolo'\n",
    "source_directory = \"/경로/소스폴더\"  # 복사할 폴더 경로\n",
    "destination_directory = \"data/\" + model_name  # 복사할 폴더를 붙여넣을 목적 경로\n",
    "\n",
    "move_directory(source_directory, destination_directory)"
   ]
  },
  {
   "cell_type": "code",
   "execution_count": null,
   "id": "fa1ddaa7",
   "metadata": {},
   "outputs": [],
   "source": []
  }
 ],
 "metadata": {
  "environment": {
   "kernel": "python3",
   "name": "common-cu110.m108",
   "type": "gcloud",
   "uri": "gcr.io/deeplearning-platform-release/base-cu110:m108"
  },
  "kernelspec": {
   "display_name": "Python 3 (ipykernel)",
   "language": "python",
   "name": "python3"
  },
  "language_info": {
   "codemirror_mode": {
    "name": "ipython",
    "version": 3
   },
   "file_extension": ".py",
   "mimetype": "text/x-python",
   "name": "python",
   "nbconvert_exporter": "python",
   "pygments_lexer": "ipython3",
   "version": "3.8.10"
  }
 },
 "nbformat": 4,
 "nbformat_minor": 5
}

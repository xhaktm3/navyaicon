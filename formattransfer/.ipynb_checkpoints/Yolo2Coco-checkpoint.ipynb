{
 "cells": [
  {
   "cell_type": "code",
   "execution_count": 6,
   "id": "22914363-548c-42d9-9ff1-aac76ba10ef4",
   "metadata": {},
   "outputs": [],
   "source": [
    "from pylabel import importer\n",
    "from glob import glob\n",
    "import cv2\n",
    "import json\n",
    "from tqdm import tqdm"
   ]
  },
  {
   "cell_type": "code",
   "execution_count": 11,
   "id": "5155eaa6-87d9-41ff-9ec5-06bd0e7eb36e",
   "metadata": {},
   "outputs": [],
   "source": [
    "# path_to_annotations = \"/home/elicer/navyai/yuns/yolo/yolov8x_2/predict/labels/*.txt\"\n",
    "path_to_annotations = \"/home/ubuntu/workspace/yuns/yolo/yolov8x-aug/predict/labels/*.txt\"\n",
    "\n",
    "#Identify the path to get from the annotations to the images \n",
    "# path_to_images = \"/home/elicer/navyai/datasets/dataset_official/test/image/\"\n",
    "path_to_images = \"/home/ubuntu/workspace/datasets/final_dataset/test/image/\"\n",
    "\n",
    "save_path = \"/home/ubuntu/workspace/yuns/yolo/output/yolov8_aug_test.json\"\n",
    "\n",
    "img_ext = '.jpg'\n",
    "#Import the dataset into the pylable schema \n",
    "#Class names are defined here https://github.com/ultralytics/yolov5/blob/master/data/coco128.yaml"
   ]
  },
  {
   "cell_type": "code",
   "execution_count": 12,
   "id": "b51da113-8284-4fff-bcec-e4aac94bc04e",
   "metadata": {},
   "outputs": [],
   "source": [
    "yoloclasses = [\"drone\"]"
   ]
  },
  {
   "cell_type": "code",
   "execution_count": 14,
   "id": "7ac45937-aa6e-4e95-807c-9237ed86067d",
   "metadata": {},
   "outputs": [
    {
     "name": "stderr",
     "output_type": "stream",
     "text": [
      "100%|██████████████████████████████████████████████████████████████████████████████████████████████████████████████████████████████████████████████████████████████| 13063/13063 [08:35<00:00, 25.34it/s]\n"
     ]
    }
   ],
   "source": [
    "annotation_paths = glob(path_to_annotations)\n",
    "root = {}\n",
    "images = []\n",
    "annotations = []\n",
    "categories = []\n",
    "\n",
    "for idx, class_name in enumerate(yoloclasses):\n",
    "        categories.append({\"id\":idx,\"name\":class_name,\"supercategory\":\"none\"})\n",
    "\n",
    "annotation_id = 0\n",
    "for idx,anno in tqdm(enumerate(annotation_paths), total=len(annotation_paths)):\n",
    "\n",
    "    base_file = anno.split('/')[-1].split('.txt')[0]\n",
    "    img = cv2.imread(path_to_images+base_file+img_ext)\n",
    "    img_h,img_w,dim = img.shape\n",
    "    \n",
    "    image = {}\n",
    "    image['id'] = idx\n",
    "    image['folder'] = path_to_images[:-1]\n",
    "    image['file_name'] = base_file+img_ext\n",
    "    image['path'] = None\n",
    "    image['width'] = img_w\n",
    "    image['height'] = img_h\n",
    "    image['depth'] = dim\n",
    "    images.append(image)\n",
    "\n",
    "    with open(anno,'r') as f:\n",
    "        lines = f.readlines()\n",
    "        for line in lines:\n",
    "            line = line.strip().split(\" \")\n",
    "            class_id, x_r, y_r, w_r, h_r, conf = line  #infer\n",
    "            # class_id, x_r, y_r, w_r, h_r = line  #train\n",
    "            w = int(float(w_r) * img_w)\n",
    "            h = int(float(h_r) * img_h)\n",
    "            x = int(float(x_r) * img_w - w/2)\n",
    "            y = int(float(y_r) * img_h - h/2)\n",
    "\n",
    "            annotation = {}\n",
    "            annotation['image_id'] = idx\n",
    "            annotation['id'] = annotation_id\n",
    "            annotation['segmented'] = None\n",
    "            annotation['bbox'] = [x,y,w,h]\n",
    "            annotation['area'] = w*h\n",
    "            annotation['segmentation'] = None\n",
    "            annotation['iscrowd'] = 0\n",
    "            annotation['pose'] = None\n",
    "            annotation['truncated'] = None\n",
    "            annotation['category_id'] = int(class_id)\n",
    "            annotation['difficult'] = None\n",
    "            annotation['confidence'] = conf\n",
    "            annotations.append(annotation)\n",
    "\n",
    "            annotation_id += 1\n",
    "            \n",
    "root['images'] = images\n",
    "root['annotations'] = annotations\n",
    "root['categories'] = categories\n",
    "\n",
    "with open(save_path,'w') as f:\n",
    "    json.dump(root,f)            "
   ]
  },
  {
   "cell_type": "code",
   "execution_count": null,
   "id": "b2c05dfb-dd83-49c6-81d9-26eaa5f25dde",
   "metadata": {},
   "outputs": [],
   "source": []
  }
 ],
 "metadata": {
  "environment": {
   "kernel": "python3",
   "name": "common-cu110.m108",
   "type": "gcloud",
   "uri": "gcr.io/deeplearning-platform-release/base-cu110:m108"
  },
  "kernelspec": {
   "display_name": "Python 3 (ipykernel)",
   "language": "python",
   "name": "python3"
  },
  "language_info": {
   "codemirror_mode": {
    "name": "ipython",
    "version": 3
   },
   "file_extension": ".py",
   "mimetype": "text/x-python",
   "name": "python",
   "nbconvert_exporter": "python",
   "pygments_lexer": "ipython3",
   "version": "3.8.16"
  }
 },
 "nbformat": 4,
 "nbformat_minor": 5
}

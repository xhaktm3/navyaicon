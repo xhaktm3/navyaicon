{
 "cells": [
  {
   "cell_type": "code",
   "execution_count": 23,
   "id": "1b2b0c1d-9a1c-485a-9cf4-6d3cd9577670",
   "metadata": {},
   "outputs": [],
   "source": [
    "import json\n",
    "import os\n",
    "\n",
    "# confidence는 따로 계산하지 않음\n",
    "def convert_coco_to_labelme(coco_json_file, output_folder):\n",
    "    with open(coco_json_file, 'r') as f:\n",
    "        coco_data = json.load(f)\n",
    "\n",
    "    # Create output folder if it doesn't exist\n",
    "    os.makedirs(output_folder, exist_ok=True)\n",
    "\n",
    "    for annotation in coco_data['annotations']:\n",
    "        image_id = annotation['image_id']\n",
    "        file_name = coco_data['images'][image_id]['file_name']\n",
    "        file_name = file_name.replace(\"png\", \"txt\")\n",
    "        print(file_name)\n",
    "        category_id = float(annotation['category_id'])\n",
    "        bbox = annotation['bbox']\n",
    "        x, y, width, height = bbox\n",
    "\n",
    "        # Construct the annotation string\n",
    "        annotation_str = f\"{category_id} {x} {y} {x + width} {y} {x + width} {y + height} {x} {y + height}\"\n",
    "\n",
    "        # Save annotation to the corresponding txt file\n",
    "        txt_file_path = os.path.join(output_folder, f'{file_name}')\n",
    "        with open(txt_file_path, 'a') as f:\n",
    "            f.write(annotation_str + '\\n')"
   ]
  },
  {
   "cell_type": "code",
   "execution_count": 22,
   "id": "f837c4a0-101f-4a0c-bfae-81d118961181",
   "metadata": {},
   "outputs": [
    {
     "name": "stdout",
     "output_type": "stream",
     "text": [
      "syn_00001.txt\n",
      "syn_00001.txt\n",
      "syn_00001.txt\n",
      "syn_00002.txt\n",
      "syn_00002.txt\n",
      "syn_00012.txt\n",
      "syn_00012.txt\n",
      "syn_00012.txt\n",
      "syn_00000.txt\n",
      "syn_00000.txt\n",
      "syn_00000.txt\n",
      "syn_00007.txt\n",
      "syn_00007.txt\n",
      "syn_00005.txt\n",
      "syn_00005.txt\n",
      "syn_00005.txt\n",
      "syn_00003.txt\n",
      "syn_00003.txt\n",
      "syn_00006.txt\n",
      "syn_00006.txt\n",
      "syn_00006.txt\n",
      "syn_00004.txt\n",
      "syn_00004.txt\n",
      "syn_00004.txt\n",
      "syn_00010.txt\n",
      "syn_00010.txt\n",
      "syn_00008.txt\n",
      "syn_00008.txt\n",
      "syn_00009.txt\n",
      "syn_00009.txt\n",
      "syn_00009.txt\n",
      "syn_00011.txt\n",
      "syn_00011.txt\n",
      "syn_00011.txt\n"
     ]
    }
   ],
   "source": [
    "file_path = '/home/jupyter/dacon/data/sample'\n",
    "coco_json_file = file_path + \"/annotations/train.json\"    # 입력으로 사용할 COCO JSON 파일 경로\n",
    "output_folder = file_path + \"/testing/labelme_data\"       # 출력으로 생성할 labelme JSON 파일들을 저장할 폴더 경로\n",
    "convert_coco_to_labelme(coco_json_file, output_folder)"
   ]
  }
 ],
 "metadata": {
  "environment": {
   "kernel": "python3",
   "name": "common-cu110.m108",
   "type": "gcloud",
   "uri": "gcr.io/deeplearning-platform-release/base-cu110:m108"
  },
  "kernelspec": {
   "display_name": "Python 3 (ipykernel)",
   "language": "python",
   "name": "python3"
  },
  "language_info": {
   "codemirror_mode": {
    "name": "ipython",
    "version": 3
   },
   "file_extension": ".py",
   "mimetype": "text/x-python",
   "name": "python",
   "nbconvert_exporter": "python",
   "pygments_lexer": "ipython3",
   "version": "3.7.12"
  }
 },
 "nbformat": 4,
 "nbformat_minor": 5
}

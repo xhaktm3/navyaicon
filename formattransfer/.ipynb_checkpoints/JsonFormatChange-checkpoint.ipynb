{
 "cells": [
  {
   "cell_type": "code",
   "execution_count": 4,
   "id": "325100d5-11f8-4469-8919-2aecc3fad28e",
   "metadata": {},
   "outputs": [],
   "source": [
    "import json\n",
    "\n",
    "def remove_depth_and_folder(json_file, output_file):\n",
    "    with open(json_file, 'r') as f:\n",
    "        data = json.load(f)\n",
    "\n",
    "    # Iterate over each image entry\n",
    "    for image_entry in data['images']:\n",
    "        # Remove 'depth' and 'folder' tags from the image entry\n",
    "        image_entry.pop('depth', None)\n",
    "        image_entry.pop('path', None)\n",
    "\n",
    "    # Save the modified data to a new JSON file\n",
    "    with open(output_file, 'w') as f:\n",
    "        json.dump(data, f)\n",
    "\n",
    "# 예시 사용법\n",
    "json_file = '/home/jupyter/dacon/data/sample/annotations/train.json'          # 입력으로 사용할 JSON 파일 경로\n",
    "output_file = '/home/jupyter/dacon/data/sample/annotations/train.json'   # 수정된 결과를 저장할 새로운 JSON 파일 경로\n",
    "remove_depth_and_folder(json_file, output_file)"
   ]
  }
 ],
 "metadata": {
  "environment": {
   "kernel": "python3",
   "name": "common-cu110.m108",
   "type": "gcloud",
   "uri": "gcr.io/deeplearning-platform-release/base-cu110:m108"
  },
  "kernelspec": {
   "display_name": "Python 3 (ipykernel)",
   "language": "python",
   "name": "python3"
  },
  "language_info": {
   "codemirror_mode": {
    "name": "ipython",
    "version": 3
   },
   "file_extension": ".py",
   "mimetype": "text/x-python",
   "name": "python",
   "nbconvert_exporter": "python",
   "pygments_lexer": "ipython3",
   "version": "3.7.12"
  }
 },
 "nbformat": 4,
 "nbformat_minor": 5
}

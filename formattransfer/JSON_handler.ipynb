{
 "cells": [
  {
   "cell_type": "code",
   "execution_count": 11,
   "id": "03eae65a-0e7e-49ae-bcd3-e4c7729cb49f",
   "metadata": {},
   "outputs": [],
   "source": [
    "import json\n",
    "import random"
   ]
  },
  {
   "cell_type": "code",
   "execution_count": 12,
   "id": "4a986a3b-9ae2-45b0-8c4f-03f8cabd5161",
   "metadata": {},
   "outputs": [],
   "source": [
    "all_classes = [\"chevrolet_malibu_sedan_2012_2016\", \"chevrolet_malibu_sedan_2017_2019\", \"chevrolet_spark_hatchback_2016_2021\", \n",
    "           \"chevrolet_trailblazer_suv_2021_\", \"chevrolet_trax_suv_2017_2019\", \"genesis_g80_sedan_2016_2020\", \"genesis_g80_sedan_2021_\", \n",
    "           \"genesis_gv80_suv_2020_\", \"hyundai_avante_sedan_2011_2015\", \"hyundai_avante_sedan_2020_\", \"hyundai_grandeur_sedan_2011_2016\", \n",
    "           \"hyundai_grandstarex_van_2018_2020\", \"hyundai_ioniq_hatchback_2016_2019\", \"hyundai_sonata_sedan_2004_2009\", \n",
    "           \"hyundai_sonata_sedan_2010_2014\", \"hyundai_sonata_sedan_2019_2020\", \"kia_carnival_van_2015_2020\", \"kia_carnival_van_2021_\", \n",
    "           \"kia_k5_sedan_2010_2015\", \"kia_k5_sedan_2020_\", \"kia_k7_sedan_2016_2020\", \"kia_mohave_suv_2020_\", \"kia_morning_hatchback_2004_2010\", \n",
    "           \"kia_morning_hatchback_2011_2016\", \"kia_ray_hatchback_2012_2017\", \"kia_sorrento_suv_2015_2019\", \"kia_sorrento_suv_2020_\", \n",
    "           \"kia_soul_suv_2014_2018\", \"kia_sportage_suv_2016_2020\", \"kia_stonic_suv_2017_2019\", \"renault_sm3_sedan_2015_2018\", \"renault_xm3_suv_2020_\",\n",
    "           \"ssangyong_korando_suv_2019_2020\", \"ssangyong_tivoli_suv_2016_2020\"]"
   ]
  },
  {
   "cell_type": "code",
   "execution_count": 27,
   "id": "4a15a041-aeae-4c1c-97fa-0d50ba7d6742",
   "metadata": {},
   "outputs": [],
   "source": [
    "# #없는 카테고리 추가\n",
    "# def adding_category_without_data(annotations_path,all_classes):\n",
    "#     with open(annotations_path, 'r') as f:\n",
    "#             annotations = json.load(f)\n",
    "#     categories = annotations['categories']    \n",
    "\n",
    "#     category_list = []\n",
    "#     for category in categories :\n",
    "#         category_list.append(category['name'])\n",
    "\n",
    "#     for idx, class_name in enumerate(all_classes) :\n",
    "#         if class_name not in category_list:\n",
    "#             categories.append({\"id\":idx,\"name\":class_name,\"supercategory\":\"none\"})\n",
    "\n",
    "#     annotations['categories'] = categories\n",
    "\n",
    "#     with open(annotations_path, \"w\") as f: \n",
    "#         json.dump(annotations, f, ensure_ascii=False, indent=4)\n",
    "\n",
    "#없는 카테고리 추가\n",
    "def adding_category_without_data(annotations_path,all_classes):\n",
    "    categories = []\n",
    "    \n",
    "    with open(annotations_path, 'r') as f:\n",
    "        annotations = json.load(f)\n",
    "        for i in annotations['annotations']:\n",
    "            if i['iscrowd'] == 1:\n",
    "                print(i)\n",
    "                break\n",
    "\n",
    "adding_category_without_data('/home/ubuntu/workspace/datasets/dacon/coco/annotations/train.json',all_classes)\n",
    "    "
   ]
  },
  {
   "cell_type": "code",
   "execution_count": 19,
   "id": "a3daea04-0a3c-4c4a-983a-adeb227b2cee",
   "metadata": {},
   "outputs": [],
   "source": [
    "annotation_file = \"/home/ubuntu/workspace/datasets/dacon/coco/annotations/train_sample_10_again.json\"\n",
    "adding_category_without_data(annotation_file,all_classes)"
   ]
  },
  {
   "cell_type": "code",
   "execution_count": 13,
   "id": "73e709bc-6440-403d-829e-9db667b1f38a",
   "metadata": {},
   "outputs": [],
   "source": [
    "#Annotation sampling\n",
    "def sample_coco_annotation(annotation_file, output_file, sample_num):\n",
    "    # COCO 주석 파일 로드\n",
    "    with open(annotation_file, \"r\") as f:\n",
    "        coco_data = json.load(f)\n",
    "\n",
    "    # COCO 데이터에서 이미지 ID 리스트 가져오기\n",
    "    image_ids = coco_data[\"images\"]\n",
    "\n",
    "    # 이미지 ID를 무작위로 섞기\n",
    "    random.shuffle(image_ids)\n",
    "\n",
    "    # 선택한 이미지 ID 리스트에서 처음 10개 이미지 ID 추출\n",
    "    selected_images = image_ids[:sample_num]\n",
    "    selected_image_ids = []\n",
    "    for img in selected_images : \n",
    "        selected_image_ids.append(img['id'])\n",
    "    \n",
    "    print(selected_image_ids)\n",
    "\n",
    "    # 선택한 이미지와 해당 주석 추출\n",
    "    selected_images = []\n",
    "    selected_annotations = []\n",
    "    for image in coco_data[\"images\"]:\n",
    "        if image[\"id\"] in selected_image_ids:\n",
    "            selected_images.append(image)\n",
    "    \n",
    "    for annotation in coco_data[\"annotations\"]:\n",
    "        if annotation[\"image_id\"] in selected_image_ids:\n",
    "            selected_annotations.append(annotation)\n",
    "\n",
    "    # index 다시\n",
    "    idx_dict = {}\n",
    "    for idx, image in enumerate(selected_images):\n",
    "        idx_dict[image['id']] = idx\n",
    "        image['id'] = idx\n",
    "\n",
    "    for idx, annotation in enumerate(selected_annotations):\n",
    "        annotation['id'] = idx\n",
    "        annotation['image_id'] = idx_dict[annotation['image_id']]\n",
    "    \n",
    "            \n",
    "    # 선택한 이미지와 주석으로 샘플 COCO 주석 생성\n",
    "    sample_coco_annotations = {\n",
    "        \"categories\": coco_data[\"categories\"],\n",
    "        \"images\": selected_images,\n",
    "        \"annotations\": selected_annotations\n",
    "    }\n",
    "\n",
    "    # 생성된 샘플 COCO 주석을 JSON 파일로 저장\n",
    "    with open(output_file, \"w\") as f:\n",
    "        json.dump(sample_coco_annotations, f)"
   ]
  },
  {
   "cell_type": "code",
   "execution_count": 14,
   "id": "404b8149-5729-4c91-9b0f-088c05ec66c8",
   "metadata": {},
   "outputs": [
    {
     "name": "stdout",
     "output_type": "stream",
     "text": [
      "[1071, 1143, 999, 658, 4601, 2973, 3133, 2916, 2660, 1061]\n"
     ]
    }
   ],
   "source": [
    "annotation_file = \"/home/ubuntu/workspace/datasets/dacon/coco/annotations/train.json\"\n",
    "output_file = \"/home/ubuntu/workspace/datasets/dacon/coco/annotations/train_sample_10.json\"\n",
    "sample_coco_annotation(annotation_file, output_file, 10)"
   ]
  },
  {
   "cell_type": "code",
   "execution_count": null,
   "id": "0578233f-d13c-4199-a325-60c4662e141c",
   "metadata": {},
   "outputs": [],
   "source": []
  }
 ],
 "metadata": {
  "kernelspec": {
   "display_name": "Python 3 (ipykernel)",
   "language": "python",
   "name": "python3"
  },
  "language_info": {
   "codemirror_mode": {
    "name": "ipython",
    "version": 3
   },
   "file_extension": ".py",
   "mimetype": "text/x-python",
   "name": "python",
   "nbconvert_exporter": "python",
   "pygments_lexer": "ipython3",
   "version": "3.8.16"
  }
 },
 "nbformat": 4,
 "nbformat_minor": 5
}

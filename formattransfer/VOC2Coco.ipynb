{
 "cells": [
  {
   "cell_type": "code",
   "execution_count": null,
   "id": "4bc892cc-ca65-4b5d-bbb0-f1565daa542f",
   "metadata": {},
   "outputs": [],
   "source": [
    "import logging\n",
    "logging.getLogger().setLevel(logging.CRITICAL)\n",
    "!pip install pylabel > /dev/null\n",
    "\n",
    "from pylabel import importer"
   ]
  },
  {
   "cell_type": "code",
   "execution_count": null,
   "id": "cbe2486f-0d85-4177-9e51-aac81d442537",
   "metadata": {},
   "outputs": [],
   "source": [
    "path_to_annotations = \"/home/jupyter/dacon/data/sample/annotations/voc\"\n",
    "\n",
    "#Identify the path to get from the annotations to the images \n",
    "path_to_images = \"/home/jupyter/dacon/data/sample/train\"\n",
    "\n",
    "dataset = importer.ImportVOC(path=path_to_annotations, path_to_images=path_to_images, name=\"cars\")\n",
    "dataset.df.head(5)"
   ]
  },
  {
   "cell_type": "code",
   "execution_count": null,
   "id": "60a5ce6f-80bd-46f1-b292-427026d13402",
   "metadata": {},
   "outputs": [],
   "source": [
    "dataset.export.ExportToCoco(output_path=\"/home/jupyter/dacon/data/sample/annotations/train.json\")"
   ]
  },
  {
   "cell_type": "code",
   "execution_count": null,
   "id": "6fd1390f-122d-422a-8758-eef9aadcc2bd",
   "metadata": {},
   "outputs": [],
   "source": [
    "from IPython.display import display\n",
    "display(dataset.visualize.ShowBoundingBoxes(0))\n",
    "display(dataset.visualize.ShowBoundingBoxes(\"syn_00000.png\"))"
   ]
  }
 ],
 "metadata": {
  "environment": {
   "kernel": "python3",
   "name": "common-cu110.m108",
   "type": "gcloud",
   "uri": "gcr.io/deeplearning-platform-release/base-cu110:m108"
  },
  "kernelspec": {
   "display_name": "Python 3 (ipykernel)",
   "language": "python",
   "name": "python3"
  },
  "language_info": {
   "codemirror_mode": {
    "name": "ipython",
    "version": 3
   },
   "file_extension": ".py",
   "mimetype": "text/x-python",
   "name": "python",
   "nbconvert_exporter": "python",
   "pygments_lexer": "ipython3",
   "version": "3.8.16"
  }
 },
 "nbformat": 4,
 "nbformat_minor": 5
}

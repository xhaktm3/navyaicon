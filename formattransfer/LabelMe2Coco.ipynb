{
 "cells": [
  {
   "cell_type": "code",
   "execution_count": 2,
   "id": "a7c2f8d6-0e06-463b-80ca-426fd829f83f",
   "metadata": {},
   "outputs": [],
   "source": [
    "import json\n",
    "import cv2\n",
    "from glob import glob\n",
    "from sklearn.model_selection import train_test_split"
   ]
  },
  {
   "cell_type": "code",
   "execution_count": 3,
   "id": "410319f5-19a9-4140-bc20-1f309a52cf0d",
   "metadata": {},
   "outputs": [
    {
     "name": "stdout",
     "output_type": "stream",
     "text": [
      "/home/jupyter\n"
     ]
    }
   ],
   "source": [
    "!pwd"
   ]
  },
  {
   "cell_type": "code",
   "execution_count": 5,
   "id": "293aaca2-4fa8-49cf-99cf-25c7456b7db5",
   "metadata": {},
   "outputs": [
    {
     "name": "stdout",
     "output_type": "stream",
     "text": [
      "DETR.ipynb\t    Preparation.ipynb  open.zip\t\t      snap  tutorials\n",
      "LabelMe2Coco.ipynb  dacon\t       sample_submission.csv  src\n"
     ]
    }
   ],
   "source": [
    "!ls"
   ]
  },
  {
   "cell_type": "code",
   "execution_count": 7,
   "id": "bfb0a62c-a7dd-425a-afa5-c26412919dae",
   "metadata": {},
   "outputs": [
    {
     "name": "stdout",
     "output_type": "stream",
     "text": [
      "/home/jupyter/dacon/data\n"
     ]
    }
   ],
   "source": [
    "%cd dacon/data"
   ]
  },
  {
   "cell_type": "code",
   "execution_count": 3,
   "id": "912144b0-3d90-4d49-8d21-1f18bf52f939",
   "metadata": {},
   "outputs": [],
   "source": [
    "train_path = '/home/ubuntu/workspace/datasets/dacon/labelme/*.txt'\n",
    "ann_train = glob(train_path)\n",
    "val_path = '/home/ubuntu/workspace/datasets/dacon/labelme/*.txt'\n",
    "ann_valid = glob(val_path)\n",
    "classes = [\"chevrolet_malibu_sedan_2012_2016\", \"chevrolet_malibu_sedan_2017_2019\", \"chevrolet_spark_hatchback_2016_2021\", \n",
    "           \"chevrolet_trailblazer_suv_2021_\", \"chevrolet_trax_suv_2017_2019\", \"genesis_g80_sedan_2016_2020\", \"genesis_g80_sedan_2021_\", \n",
    "           \"genesis_gv80_suv_2020_\", \"hyundai_avante_sedan_2011_2015\", \"hyundai_avante_sedan_2020_\", \"hyundai_grandeur_sedan_2011_2016\", \n",
    "           \"hyundai_grandstarex_van_2018_2020\", \"hyundai_ioniq_hatchback_2016_2019\", \"hyundai_sonata_sedan_2004_2009\", \n",
    "           \"hyundai_sonata_sedan_2010_2014\", \"hyundai_sonata_sedan_2019_2020\", \"kia_carnival_van_2015_2020\", \"kia_carnival_van_2021_\", \n",
    "           \"kia_k5_sedan_2010_2015\", \"kia_k5_sedan_2020_\", \"kia_k7_sedan_2016_2020\", \"kia_mohave_suv_2020_\", \"kia_morning_hatchback_2004_2010\", \n",
    "           \"kia_morning_hatchback_2011_2016\", \"kia_ray_hatchback_2012_2017\", \"kia_sorrento_suv_2015_2019\", \"kia_sorrento_suv_2020_\", \n",
    "           \"kia_soul_suv_2014_2018\", \"kia_sportage_suv_2016_2020\", \"kia_stonic_suv_2017_2019\", \"renault_sm3_sedan_2015_2018\", \"renault_xm3_suv_2020_\",\n",
    "           \"ssangyong_korando_suv_2019_2020\", \"ssangyong_tivoli_suv_2016_2020\"]"
   ]
  },
  {
   "cell_type": "code",
   "execution_count": 4,
   "id": "a6c526d6-faec-4c85-8b4c-812adf622de3",
   "metadata": {},
   "outputs": [],
   "source": [
    "def labelmetxt2coco(classes, target_file_path, anns):\n",
    "    obj = {}\n",
    "    # 숫자로 해도 되지만, 클래스 확인하기 위해 차종으로 변경\n",
    "    obj[\"categories\"] = [{\"id\":i,\"name\":cat,\"supercategory\":\"none\"} for i, cat in enumerate(classes)]\n",
    "    obj[\"images\"] = []\n",
    "    obj[\"annotations\"] = []\n",
    "    cnt_ann = 0\n",
    "    for i, ann in enumerate(anns):\n",
    "        img_path = ann.replace(\"txt\", \"png\")\n",
    "        img_path = img_path.replace(\"label\",\"train\")\n",
    "        split_words = img_path.split('/')\n",
    "        img_path = split_words[-1]\n",
    "        #h, w, _ = cv2.imread(img_path).shape\n",
    "        obj[\"images\"].append({\"id\":i,\"height\":1040,\"width\":1920,\"file_name\":img_path})\n",
    "\n",
    "        f_ann = open(ann, \"r\")\n",
    "        for line in f_ann.readlines():\n",
    "            data = line.split()\n",
    "            cat = int(float(data[0]))\n",
    "            pt1x = int(data[1])\n",
    "            pt1y = int(data[2])\n",
    "            #pt2x = int(data[3])    not to use\n",
    "            #pt2y = int(data[4])\n",
    "            pt3x = int(data[5])\n",
    "            pt3y = int(data[6])\n",
    "            #pt4x = int(data[7])\n",
    "            #pt4y = int(data[8])\n",
    "            x = pt1x\n",
    "            y = pt1y\n",
    "            width = pt3x - pt1x\n",
    "            height = pt3y - pt1y\n",
    "            area = width * height\n",
    "            obj[\"annotations\"].append({\"id\": cnt_ann,\n",
    "                                        \"image_id\": i,\n",
    "                                        \"category_id\": cat,\n",
    "                                        \"bbox\": [x, y, width, height],\n",
    "                                        \"area\": area,\n",
    "                                        \"segmentation\": [],\n",
    "                                        \"iscrowd\": 0})\n",
    "            cnt_ann += 1\n",
    "        \n",
    "    with open(target_file_path, \"w\") as f:\n",
    "        json.dump(obj, f, ensure_ascii=False, indent=4)"
   ]
  },
  {
   "cell_type": "code",
   "execution_count": 6,
   "id": "4769a98e-7c9f-4c9d-b067-8ad420fdeb96",
   "metadata": {},
   "outputs": [],
   "source": [
    "path = '/home/ubuntu/workspace/datasets/dacon/testing_transfers/coco/annotations'\n",
    "file_name = 'train.json'\n",
    "target_file_path = path + '/' + file_name\n",
    "\n",
    "labelmetxt2coco(classes, target_file_path, ann_train)"
   ]
  },
  {
   "cell_type": "code",
   "execution_count": null,
   "id": "f7b2de85-6d1e-48fd-870e-5fe037a89e6f",
   "metadata": {},
   "outputs": [],
   "source": []
  }
 ],
 "metadata": {
  "environment": {
   "kernel": "python3",
   "name": "common-cu110.m108",
   "type": "gcloud",
   "uri": "gcr.io/deeplearning-platform-release/base-cu110:m108"
  },
  "kernelspec": {
   "display_name": "Python 3 (ipykernel)",
   "language": "python",
   "name": "python3"
  },
  "language_info": {
   "codemirror_mode": {
    "name": "ipython",
    "version": 3
   },
   "file_extension": ".py",
   "mimetype": "text/x-python",
   "name": "python",
   "nbconvert_exporter": "python",
   "pygments_lexer": "ipython3",
   "version": "3.8.16"
  }
 },
 "nbformat": 4,
 "nbformat_minor": 5
}

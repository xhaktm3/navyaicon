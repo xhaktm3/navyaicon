{
 "cells": [
  {
   "cell_type": "code",
   "execution_count": 1,
   "id": "f35a2297",
   "metadata": {},
   "outputs": [],
   "source": [
    "import os\n",
    "import pandas as pd\n",
    "import numpy as np\n",
    "import cv2\n",
    "import shutil\n",
    "import yaml\n",
    "import warnings\n",
    "warnings.filterwarnings(\"ignore\")\n",
    "\n",
    "from glob import glob\n",
    "from tqdm import tqdm\n",
    "from IPython.display import clear_output\n",
    "from sklearn.model_selection import train_test_split"
   ]
  },
  {
   "cell_type": "code",
   "execution_count": 2,
   "id": "fbe4eb52",
   "metadata": {},
   "outputs": [],
   "source": [
    "image_paths = sorted(glob(\"/tf/hayoung/datafortransformation/yolo/valid/*.png\")) # 절대경로 지정 필요\n",
    "txt_paths = sorted(glob(\"/tf/hayoung/datafortransformation/yolo/valid/*.txt\")) # 절대경로 지정 필요\n",
    "\n",
    "SEED = 42\n",
    "MODEL = 'v1'\n",
    "train_images_paths, valid_images_paths, train_txt_paths, valid_txt_paths = train_test_split(image_paths, txt_paths, test_size=0.1, random_state=SEED)"
   ]
  },
  {
   "cell_type": "code",
   "execution_count": 3,
   "id": "2402232a",
   "metadata": {},
   "outputs": [],
   "source": [
    "def Yolo2LabelMe(image_paths, txt_paths, type=\"train\"):    \n",
    "    for image_path, txt_path in tqdm(zip(image_paths, txt_paths if not type == \"test\" else image_paths), total=len(image_paths)):\n",
    "        source_image = cv2.imread(image_path, cv2.IMREAD_COLOR)\n",
    "        image_height, image_width, _ = source_image.shape\n",
    "        \n",
    "        target_image_path = f\"/tf/hayoung/datafortransformation/labelme/{type}/{os.path.basename(image_path)}\" # 절대경로 지정 필요\n",
    "        cv2.imwrite(target_image_path, source_image)\n",
    "        \n",
    "        if type == \"test\":\n",
    "            continue\n",
    "            \n",
    "        with open(txt_path, \"r\") as reader:\n",
    "            labelme_labels = []\n",
    "            lines = reader.readlines()\n",
    "            for line in lines:\n",
    "                # confidence 필요 시 나중에 추가할 것\n",
    "                class_id, x, y, width, height = [float(temp) for temp in line.split()]\n",
    "                \n",
    "                x_min = int((x - width / 2) * image_width)\n",
    "                x_max = int((x + width / 2) * image_width)\n",
    "                y_min = int((y - height / 2) * image_height)\n",
    "                y_max = int((y + height / 2) * image_height)\n",
    "                \n",
    "                labelme_labels.append(f\"{int(class_id)} {x_min} {y_min} {x_max} {y_min} {x_max} {y_max} {x_min} {y_max}\")\n",
    "        \n",
    "        target_label_txt = f\"/tf/hayoung/datafortransformation/labelme/{type}/{os.path.basename(txt_path)}\" # 절대경로 지정 필요\n",
    "        \n",
    "        with open(target_label_txt, \"w\") as writer:\n",
    "            for labelme_label in labelme_labels:\n",
    "                writer.write(f\"{labelme_label}\\n\")            "
   ]
  },
  {
   "cell_type": "code",
   "execution_count": 6,
   "id": "d44eedc7",
   "metadata": {},
   "outputs": [
    {
     "name": "stderr",
     "output_type": "stream",
     "text": [
      "100%|██████████| 584/584 [01:07<00:00,  8.68it/s]\n",
      "100%|██████████| 65/65 [00:07<00:00,  8.66it/s]\n"
     ]
    }
   ],
   "source": [
    "Yolo2LabelMe(train_images_paths, train_txt_paths, \"train\")\n",
    "Yolo2LabelMe(valid_images_paths, valid_txt_paths, \"valid\")\n",
    "\n",
    "# Yolo2LabelMe(sorted(glob(\"/test/*.png\")), None, \"test\") # 테스트 이미지 폴더 절대경로 지정 필요"
   ]
  },
  {
   "cell_type": "code",
   "execution_count": null,
   "id": "befc6202",
   "metadata": {},
   "outputs": [],
   "source": []
  },
  {
   "cell_type": "code",
   "execution_count": 9,
   "id": "4736eb92",
   "metadata": {},
   "outputs": [
    {
     "name": "stderr",
     "output_type": "stream",
     "text": [
      "100%|██████████| 65/65 [00:00<00:00, 33728.78it/s]\n"
     ]
    }
   ],
   "source": [
    "# source_txts = glob(f\"{MODEL}/predict/labels/*.txt\")\n",
    "source_txts = glob(f\"/tf/hayoung/datafortransformation/labelme/valid/*.txt\")\n",
    "\n",
    "\n",
    "# CSV 형태 Submission이 필요한 경우 \n",
    "# confidence 필요 시 나중에 추가할 것\n",
    "def submitLabelmeAsCSV(source_txts):\n",
    "    results = []\n",
    "    for source_txt in tqdm(source_txts):\n",
    "        file_name = source_txt.split(\"/\")[-1].replace(\".txt\", \".png\") #필요시 이미지 확장자 변경할 것\n",
    "        with open(source_txt, \"r\") as reader:        \n",
    "            lines = reader.readlines()\n",
    "            for line in lines: # confidence 필요 시 나중에 추가\n",
    "                line = list(map(float, line.strip().split(\" \")))\n",
    "                class_id = int(line[0])\n",
    "                point1_x = int(line[1])\n",
    "                point1_y = int(line[2])\n",
    "                point2_x = int(line[3])\n",
    "                point2_y = int(line[4])\n",
    "                point3_x = int(line[5])\n",
    "                point3_y = int(line[6])\n",
    "                point4_x = int(line[7])\n",
    "                point4_y = int(line[8])\n",
    "                \n",
    "                results.append((file_name, class_id, point1_x, point1_y, point2_x, point2_y, point3_x, point3_y, point4_x, point4_y))\n",
    "                \n",
    "    df_submission = pd.DataFrame(data=results, columns=[\"file_name\", \"class_id\", \"point1_x\", \"point1_y\", \"point2_x\", \"point2_y\", \"point3_x\", \"point3_y\", \"point4_x\", \"point4_y\"])\n",
    "    df_submission.to_csv(f\"/tf/hayoung/results/labelme_{MODEL}.csv\", index=False) # 경로 나중에 변경할 것\n",
    "    \n",
    "submitLabelmeAsCSV(source_txts)"
   ]
  },
  {
   "cell_type": "code",
   "execution_count": null,
   "id": "918d1991",
   "metadata": {},
   "outputs": [],
   "source": []
  }
 ],
 "metadata": {
  "kernelspec": {
   "display_name": "Python 3 (ipykernel)",
   "language": "python",
   "name": "python3"
  },
  "language_info": {
   "codemirror_mode": {
    "name": "ipython",
    "version": 3
   },
   "file_extension": ".py",
   "mimetype": "text/x-python",
   "name": "python",
   "nbconvert_exporter": "python",
   "pygments_lexer": "ipython3",
   "version": "3.8.10"
  }
 },
 "nbformat": 4,
 "nbformat_minor": 5
}
